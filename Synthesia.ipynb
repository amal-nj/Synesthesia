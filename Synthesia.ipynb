{
  "nbformat": 4,
  "nbformat_minor": 0,
  "metadata": {
    "colab": {
      "name": "Synthesia.ipynb",
      "provenance": [],
      "authorship_tag": "ABX9TyNkX2QrQ+k3+iEaWvpi2yfO",
      "include_colab_link": true
    },
    "kernelspec": {
      "name": "python3",
      "display_name": "Python 3"
    },
    "language_info": {
      "name": "python"
    }
  },
  "cells": [
    {
      "cell_type": "markdown",
      "metadata": {
        "id": "view-in-github",
        "colab_type": "text"
      },
      "source": [
        "<a href=\"https://colab.research.google.com/github/amal-nj/Synthesia/blob/main/Synthesia.ipynb\" target=\"_parent\"><img src=\"https://colab.research.google.com/assets/colab-badge.svg\" alt=\"Open In Colab\"/></a>"
      ]
    },
    {
      "cell_type": "markdown",
      "metadata": {
        "id": "PuqpFy8w_6LL"
      },
      "source": [
        "# Synthesia\n",
        "###AI Artathon\n",
        "This notebook is composed of 3 different models and all the processing in between to produce the final output:\n",
        "-\tTimber transfer from Magnta/ddsp: source\n"
      ]
    },
    {
      "cell_type": "code",
      "metadata": {
        "id": "JVlL8Ugm_0H5"
      },
      "source": [
        ""
      ],
      "execution_count": null,
      "outputs": []
    }
  ]
}